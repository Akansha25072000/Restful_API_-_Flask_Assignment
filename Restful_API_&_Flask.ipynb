{
  "nbformat": 4,
  "nbformat_minor": 0,
  "metadata": {
    "colab": {
      "provenance": []
    },
    "kernelspec": {
      "name": "python3",
      "display_name": "Python 3"
    },
    "language_info": {
      "name": "python"
    }
  },
  "cells": [
    {
      "cell_type": "code",
      "execution_count": null,
      "metadata": {
        "id": "BIc0Qs6jYovG"
      },
      "outputs": [],
      "source": []
    },
    {
      "cell_type": "markdown",
      "source": [
        "1. What is a RESTful API?\n",
        "A RESTful API (Representational State Transfer) is an architectural style for designing networked applications. It relies on stateless communication and uses standard HTTP methods such as GET, POST, PUT, and DELETE to perform operations on resources, which are typically represented as URLs. RESTful APIs provide a scalable and simple way to interact with web services by representing data in formats like JSON or XML, making it easy for clients and servers to communicate over the web.\n",
        "\n",
        "2. Explain the concept of API specification.\n",
        "An API specification is a formal, structured description of how an API works. It defines the endpoints, request/response formats, data types, authentication methods, and error codes that a client can expect. Specifications like OpenAPI (formerly Swagger) provide a machine-readable and human-readable way to document APIs, making it easier for developers to understand how to use an API and for tools to generate code, documentation, or tests automatically.\n",
        "\n",
        "3. What is Flask, and why is it popular for building APIs?\n",
        "Flask is a lightweight and flexible web framework for Python that is especially well-suited for building web applications and RESTful APIs. It is popular because of its simplicity, minimalism, and extensibility. Flask does not force any particular project layout or dependencies, allowing developers to choose tools that fit their needs. Its large ecosystem of extensions, like Flask-SQLAlchemy and Flask-RESTful, and strong community support also contribute to its popularity.\n",
        "\n",
        "4. What is routing in Flask?\n",
        "Routing in Flask refers to the mapping of URLs to functions in your Python code. Each route is associated with a specific endpoint, and when a user accesses that URL, the corresponding function is executed. Flask uses the @app.route() decorator to define these routes. Routing allows the application to respond to different HTTP requests (like GET, POST, etc.) for different resources or actions, making it fundamental to building web APIs and web apps.\n",
        "\n",
        "5. How do you create a simple Flask application?\n",
        "To create a simple Flask application, you first install Flask using pip, then write a Python script where you import Flask, create an instance of the Flask class, define a route with @app.route(), and then run the app. For example:\n",
        "from flask import Flask\n",
        "app = Flask(__name__)\n",
        "\n",
        "@app.route('/')\n",
        "def hello():\n",
        "    return \"Hello, World!\"\n",
        "\n",
        "if __name__ == '__main__':\n",
        "    app.run(debug=True)\n",
        "This script creates a basic web server that returns “Hello, World!” when the root URL is accessed.\n",
        "\n",
        "6. What are HTTP methods used in RESTful APIs?\n",
        "RESTful APIs commonly use standard HTTP methods to perform operations on resources. These include: GET to retrieve data, POST to create new resources, PUT to update existing resources, PATCH to partially update resources, and DELETE to remove resources. These methods help define the nature of the request and maintain a consistent interface for API consumers.\n",
        "\n",
        "7. What is the purpose of the @app.route() decorator in Flask?\n",
        "The @app.route() decorator in Flask is used to bind a URL to a function. When a user visits that URL in a browser or sends an HTTP request to it, Flask calls the associated function and returns its result. This is how Flask handles routing, and it's essential for setting up different API endpoints or views in a web application.\n",
        "\n",
        "8. What is the difference between GET and POST HTTP methods?\n",
        "The GET method is used to retrieve information from the server. It is idempotent and does not modify server data. Parameters are typically sent in the URL. In contrast, the POST method is used to send data to the server to create or update a resource. The data is included in the request body, and it may change the state of the server, such as creating a new record in a database.\n",
        "\n",
        "9. How do you handle errors in Flask APIs?\n",
        "Flask provides ways to handle errors using error handlers. You can define custom error responses using the @app.errorhandler() decorator. Additionally, you can raise HTTP exceptions like abort(404) or use Flask’s built-in exceptions. Custom JSON error messages are often returned in APIs to provide meaningful feedback to clients, along with appropriate HTTP status codes.\n",
        "\n",
        "10. How do you connect Flask to a SQL database?\n",
        "To connect Flask to a SQL database, you can use an ORM like Flask-SQLAlchemy. You configure the database URI in the app’s configuration and then initialize SQLAlchemy with the app. This allows you to define models (representing tables) and interact with the database using Python code instead of raw SQL.\n",
        "\n",
        "11. What is the role of Flask-SQLAlchemy?\n",
        "Flask-SQLAlchemy is an extension that integrates SQLAlchemy with Flask. It simplifies database setup and usage in Flask apps by providing a declarative way to define models, handle sessions, and perform database operations. It abstracts much of the complexity of raw SQL and helps manage relationships, queries, and schema migrations in a Pythonic way.\n",
        "\n",
        "12. What are Flask blueprints, and how are they useful?\n",
        "Flask blueprints are a way to organize application code into reusable and modular components. Each blueprint can contain its own routes, templates, and static files. This is especially useful for large applications, where splitting the code into blueprints makes it easier to manage and develop in teams. Blueprints also support registering routes dynamically and reusing logic across projects.\n",
        "\n",
        "13. What is the purpose of Flask's request object?\n",
        "The request object in Flask contains all the data sent by the client in an HTTP request. This includes form data, JSON payloads, headers, cookies, and the request method. It allows the server-side code to access client input, enabling dynamic responses based on user-provided data. It’s essential for handling inputs in POST, PUT, and other request types.\n",
        "\n",
        "14. How do you create a RESTful API endpoint using Flask?\n",
        "To create a RESTful API endpoint in Flask, you define a route using @app.route() and specify the allowed HTTP methods. Inside the function, you use the request object to access client data and return a response, often using jsonify(). For example:\n",
        "\n",
        "@app.route('/api/data', methods=['POST'])\n",
        "def create_data():\n",
        "    data = request.get_json()\n",
        "    return jsonify({'message': 'Data received', 'data': data}), 201\n",
        "15. What is the purpose of Flask's jsonify() function?\n",
        "The jsonify() function in Flask converts Python dictionaries or lists into JSON format, which is the standard for API responses. It also sets the correct content-type (application/json) and ensures that the response is safely formatted, making it ideal for returning data in APIs.\n",
        "\n",
        "16. Explain Flask’s url_for() function.\n",
        "The url_for() function generates a URL for a given endpoint (function name) and optional parameters. This allows you to build URLs dynamically, which helps avoid hardcoding paths and makes your app more maintainable and flexible. It is often used in templates and redirects.\n",
        "\n",
        "17. How does Flask handle static files (CSS, JavaScript, etc.)?\n",
        "Flask automatically serves static files from a folder named static in the application directory. You can place your CSS, JavaScript, and image files there and reference them in your HTML using url_for('static', filename='style.css'). Flask handles the routing to serve these files efficiently.\n",
        "\n",
        "18. What is an API specification, and how does it help in building a Flask API?\n",
        "An API specification outlines the structure and behavior of an API, including endpoints, methods, request/response formats, and authentication. Tools like OpenAPI help in designing, documenting, and testing Flask APIs. It ensures consistency and clarity across teams and facilitates auto-generation of client SDKs, docs, and test cases.\n",
        "\n",
        "19. What are HTTP status codes, and why are they important in a Flask API?\n",
        "HTTP status codes indicate the result of an HTTP request. For example, 200 OK means success, 201 Created indicates resource creation, 400 Bad Request signals a client error, and 500 Internal Server Error indicates a server issue. Returning appropriate status codes in a Flask API is crucial for clients to understand the outcome of their requests.\n",
        "\n",
        "20. How do you handle POST requests in Flask?\n",
        "To handle POST requests, define a route with methods=['POST']. Use the request object to access submitted data, typically with request.form for form data or request.get_json() for JSON payloads. Then, process the data and return a response. Example:\n",
        "\n",
        "@app.route('/submit', methods=['POST'])\n",
        "def submit():\n",
        "    data = request.get_json()\n",
        "    return jsonify({'status': 'Success', 'data': data}), 200\n",
        "    \n",
        "21. How would you secure a Flask API?\n",
        "Securing a Flask API involves multiple layers. Use HTTPS to encrypt data in transit, implement authentication (e.g., API keys, JWT tokens), validate and sanitize user input to prevent injection attacks, and use Flask extensions like Flask-Login or Flask-JWT-Extended. You can also use rate limiting, CORS headers, and logging to enhance security.\n",
        "\n",
        "22. What is the significance of the Flask-RESTful extension?\n",
        "Flask-RESTful is an extension that simplifies the creation of RESTful APIs in Flask. It provides tools like Resource classes to structure API endpoints and automatically handles routing, input parsing, and output formatting. It also integrates well with Flask’s"
      ],
      "metadata": {
        "id": "7xUj3LdHYyNp"
      }
    },
    {
      "cell_type": "code",
      "source": [
        "from flask import Flask\n",
        "\n",
        "app = Flask(__name__)\n",
        "\n",
        "@app.route('/')\n",
        "def home():\n",
        "    return \"Hello, Flask!\"\n",
        "\n",
        "if __name__ == '__main__':\n",
        "    app.run(debug=True)\n",
        "#output: Hello, Flask!"
      ],
      "metadata": {
        "colab": {
          "base_uri": "https://localhost:8080/"
        },
        "id": "IpEevcv9Z0cn",
        "outputId": "3c52b4da-08f2-4049-c09c-85c7f1b923a2"
      },
      "execution_count": null,
      "outputs": [
        {
          "output_type": "stream",
          "name": "stdout",
          "text": [
            " * Serving Flask app '__main__'\n",
            " * Debug mode: on\n"
          ]
        },
        {
          "output_type": "stream",
          "name": "stderr",
          "text": [
            "INFO:werkzeug:\u001b[31m\u001b[1mWARNING: This is a development server. Do not use it in a production deployment. Use a production WSGI server instead.\u001b[0m\n",
            " * Running on http://127.0.0.1:5000\n",
            "INFO:werkzeug:\u001b[33mPress CTRL+C to quit\u001b[0m\n",
            "INFO:werkzeug: * Restarting with stat\n"
          ]
        }
      ]
    },
    {
      "cell_type": "code",
      "source": [
        "# Directory structure:\n",
        "# - app.py\n",
        "# - static/\n",
        "#     - style.css\n",
        "\n",
        "from flask import Flask, render_template\n",
        "\n",
        "app = Flask(__name__)\n",
        "\n",
        "@app.route('/')\n",
        "def index():\n",
        "    return '''\n",
        "    <html>\n",
        "        <head>\n",
        "            <link rel=\"stylesheet\" href=\"/static/style.css\">\n",
        "        </head>\n",
        "        <body>\n",
        "            <h1 class=\"heading\">Styled with CSS</h1>\n",
        "        </body>\n",
        "    </html>\n",
        "    '''\n",
        "\n",
        "if __name__ == '__main__':\n",
        "    app.run(debug=True)\n"
      ],
      "metadata": {
        "id": "MHueSHYSaI1w"
      },
      "execution_count": null,
      "outputs": []
    },
    {
      "cell_type": "markdown",
      "source": [
        ".heading {\n",
        "    color: blue;\n",
        "    text-align: center;\n",
        "}\n",
        "Output: A blue heading centered on the page."
      ],
      "metadata": {
        "id": "w9SogOTRaUNg"
      }
    },
    {
      "cell_type": "code",
      "source": [
        "from flask import Flask, request\n",
        "\n",
        "app = Flask(__name__)\n",
        "\n",
        "@app.route('/submit', methods=['GET', 'POST'])\n",
        "def submit():\n",
        "    if request.method == 'POST':\n",
        "        return \"Form submitted!\"\n",
        "    else:\n",
        "        return \"Submit the form.\"\n",
        "\n",
        "if __name__ == '__main__':\n",
        "    app.run(debug=True)\n",
        "# Output (GET): \"Submit the form.\"\n",
        "#Output (POST): \"Form submitted!\""
      ],
      "metadata": {
        "id": "ZSNtYoo8aYOU"
      },
      "execution_count": null,
      "outputs": []
    },
    {
      "cell_type": "code",
      "source": [
        "from flask import Flask, render_template\n",
        "\n",
        "app = Flask(__name__)\n",
        "\n",
        "@app.route('/')\n",
        "def home():\n",
        "    return render_template('index.html')\n",
        "\n",
        "if __name__ == '__main__':\n",
        "    app.run(debug=True)\n"
      ],
      "metadata": {
        "id": "CkawXz3Qahux"
      },
      "execution_count": null,
      "outputs": []
    },
    {
      "cell_type": "markdown",
      "source": [
        "<!DOCTYPE html>\n",
        "<html>\n",
        "<head><title>Home</title></head>\n",
        "<body>\n",
        "    <h1>Welcome to Flask</h1>\n",
        "</body>\n",
        "</html>\n",
        "#Output: HTML page with heading \"Welcome to Flask\""
      ],
      "metadata": {
        "id": "CvyBIo37ak1v"
      }
    },
    {
      "cell_type": "code",
      "source": [
        "from flask import Flask, url_for\n",
        "\n",
        "app = Flask(__name__)\n",
        "\n",
        "@app.route('/')\n",
        "def home():\n",
        "    return f\"Go to {url_for('about')}\"\n",
        "\n",
        "@app.route('/about')\n",
        "def about():\n",
        "    return \"About Page\"\n",
        "\n",
        "if __name__ == '__main__':\n",
        "    app.run(debug=True)\n",
        "#Output (on /):\n",
        "#Go to /about"
      ],
      "metadata": {
        "id": "VTQ2NWbFaqOe"
      },
      "execution_count": null,
      "outputs": []
    },
    {
      "cell_type": "code",
      "source": [
        "from flask import Flask, request\n",
        "\n",
        "app = Flask(__name__)\n",
        "\n",
        "@app.route('/', methods=['GET', 'POST'])\n",
        "def form():\n",
        "    if request.method == 'POST':\n",
        "        name = request.form['name']\n",
        "        return f'Hello, {name}!'\n",
        "    return '''\n",
        "        <form method=\"post\">\n",
        "            Name: <input type=\"text\" name=\"name\">\n",
        "            <input type=\"submit\">\n",
        "        </form>\n",
        "    '''\n",
        "\n",
        "if __name__ == '__main__':\n",
        "    app.run(debug=True)\n",
        "#Output: Input form. On submission: Hello, <name>!"
      ],
      "metadata": {
        "id": "bCo7FjADazwr"
      },
      "execution_count": null,
      "outputs": []
    },
    {
      "cell_type": "code",
      "source": [
        "from flask import Flask, request\n",
        "\n",
        "app = Flask(__name__)\n",
        "\n",
        "@app.route('/', methods=['POST', 'GET'])\n",
        "def validate():\n",
        "    if request.method == 'POST':\n",
        "        name = request.form.get('name', '').strip()\n",
        "        if not name:\n",
        "            return \"Name is required!\"\n",
        "        return f\"Valid name: {name}\"\n",
        "    return '''\n",
        "        <form method=\"post\">\n",
        "            Name: <input name=\"name\">\n",
        "            <input type=\"submit\">\n",
        "        </form>\n",
        "    '''\n",
        "\n",
        "if __name__ == '__main__':\n",
        "    app.run(debug=True)\n",
        "#Output: Returns an error if the input is blank."
      ],
      "metadata": {
        "id": "kYr1i8a7a7Pr"
      },
      "execution_count": null,
      "outputs": []
    },
    {
      "cell_type": "code",
      "source": [
        "from flask import Flask, session, redirect, url_for, request\n",
        "\n",
        "app = Flask(__name__)\n",
        "app.secret_key = 'your_secret_key'\n",
        "\n",
        "@app.route('/')\n",
        "def index():\n",
        "    if 'username' in session:\n",
        "        return f'Logged in as {session[\"username\"]}'\n",
        "    return 'You are not logged in.'\n",
        "\n",
        "@app.route('/login', methods=['POST', 'GET'])\n",
        "def login():\n",
        "    if request.method == 'POST':\n",
        "        session['username'] = request.form['username']\n",
        "        return redirect(url_for('index'))\n",
        "    return '''\n",
        "        <form method=\"post\">\n",
        "            Username: <input name=\"username\">\n",
        "            <input type=\"submit\">\n",
        "        </form>\n",
        "    '''\n",
        "\n",
        "if __name__ == '__main__':\n",
        "    app.run(debug=True)\n",
        "#Output: Stores the username in a session and displays it.\n",
        "\n"
      ],
      "metadata": {
        "id": "S10YOiszbAYt"
      },
      "execution_count": null,
      "outputs": []
    },
    {
      "cell_type": "code",
      "source": [
        "from flask import Flask, redirect, url_for\n",
        "\n",
        "app = Flask(__name__)\n",
        "\n",
        "@app.route('/')\n",
        "def home():\n",
        "    return redirect(url_for('new_page'))\n",
        "\n",
        "@app.route('/new')\n",
        "def new_page():\n",
        "    return \"You've been redirected!\"\n",
        "\n",
        "if __name__ == '__main__':\n",
        "    app.run(debug=True)\n",
        "#Output: Visiting / redirects to /new."
      ],
      "metadata": {
        "id": "CyvTkEGAbGrG"
      },
      "execution_count": null,
      "outputs": []
    },
    {
      "cell_type": "code",
      "source": [
        "from flask import Flask\n",
        "\n",
        "app = Flask(__name__)\n",
        "\n",
        "@app.errorhandler(404)\n",
        "def page_not_found(e):\n",
        "    return \"Custom 404 Page\", 404\n",
        "\n",
        "if __name__ == '__main__':\n",
        "    app.run(debug=True)\n",
        "#Output: If page not found, show \"Custom 404 Page\" instead of default error."
      ],
      "metadata": {
        "id": "PNOPdE25bMWv"
      },
      "execution_count": null,
      "outputs": []
    },
    {
      "cell_type": "code",
      "source": [
        "# main.py\n",
        "from flask import Flask\n",
        "from my_blueprint import bp\n",
        "\n",
        "app = Flask(__name__)\n",
        "app.register_blueprint(bp)\n",
        "\n",
        "if __name__ == '__main__':\n",
        "    app.run(debug=True)\n",
        "\n",
        "from flask import Blueprint\n",
        "\n",
        "bp = Blueprint('my_blueprint', __name__)\n",
        "\n",
        "@bp.route('/')\n",
        "def index():\n",
        "    return \"Hello from Blueprint\"\n",
        "\n",
        "#Output: Homepage says \"Hello from Blueprint\"."
      ],
      "metadata": {
        "id": "9A_Uw8y0bUjW"
      },
      "execution_count": null,
      "outputs": []
    },
    {
      "cell_type": "code",
      "source": [
        "from flask import Flask, render_template_string\n",
        "\n",
        "app = Flask(__name__)\n",
        "\n",
        "@app.template_filter('reverse')\n",
        "def reverse_filter(s):\n",
        "    return s[::-1]\n",
        "\n",
        "@app.route('/')\n",
        "def index():\n",
        "    return render_template_string('{{ \"hello\"|reverse }}')\n",
        "\n",
        "if __name__ == '__main__':\n",
        "    app.run(debug=True)\n",
        "\n",
        "#Output: \"olleh\""
      ],
      "metadata": {
        "id": "LHLUkc-jbahF"
      },
      "execution_count": null,
      "outputs": []
    },
    {
      "cell_type": "code",
      "source": [
        "from flask import Flask, redirect, url_for, request\n",
        "\n",
        "app = Flask(__name__)\n",
        "\n",
        "@app.route('/')\n",
        "def home():\n",
        "    return redirect(url_for('search', q='flask'))\n",
        "\n",
        "@app.route('/search')\n",
        "def search():\n",
        "    query = request.args.get('q')\n",
        "    return f'Searching for: {query}'\n",
        "\n",
        "if __name__ == '__main__':\n",
        "    app.run(debug=True)\n",
        "#Output: Redirects to /search?q=flask, and shows \"Searching for: flask\""
      ],
      "metadata": {
        "id": "hxQQtJXMbgkA"
      },
      "execution_count": null,
      "outputs": []
    },
    {
      "cell_type": "code",
      "source": [
        "from flask import Flask, jsonify\n",
        "\n",
        "app = Flask(__name__)\n",
        "\n",
        "@app.route('/api')\n",
        "def api():\n",
        "    return jsonify(message='Hello, JSON')\n",
        "\n",
        "if __name__ == '__main__':\n",
        "    app.run(debug=True)\n",
        "\n",
        "#output: {\"message\": \"Hello, JSON\"}\n"
      ],
      "metadata": {
        "id": "BREhuNtubmbb"
      },
      "execution_count": null,
      "outputs": []
    },
    {
      "cell_type": "code",
      "source": [
        "from flask import Flask\n",
        "\n",
        "app = Flask(__name__)\n",
        "\n",
        "@app.route('/user/<username>')\n",
        "def show_user(username):\n",
        "    return f'User: {username}'\n",
        "\n",
        "if __name__ == '__main__':\n",
        "    app.run(debug=True)\n",
        "#Output: (visit /user/Alice):\n",
        "#User: Alice"
      ],
      "metadata": {
        "id": "Jj9TG1Qybx7n"
      },
      "execution_count": null,
      "outputs": []
    }
  ]
}